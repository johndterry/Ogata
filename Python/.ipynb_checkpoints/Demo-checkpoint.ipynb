{
 "cells": [
  {
   "cell_type": "markdown",
   "metadata": {},
   "source": [
    "# Inverse Hankel transform and the Ogata method"
   ]
  },
  {
   "cell_type": "code",
   "execution_count": 54,
   "metadata": {},
   "outputs": [],
   "source": [
    "import numpy as np\n",
    "import sympy as sp\n",
    "import pylab as py\n",
    "#from  matplotlib import rc\n",
    "#rc('font',**{'family':'sans-serif','sans-serif':['Helvetica']})\n",
    "#rc('text',usetex=True)\n",
    "%matplotlib inline\n",
    "import vegas\n",
    "from scipy.special import jv, jn_zeros, yv\n",
    "import scipy.special as spec\n",
    "from scipy.optimize import fsolve\n",
    "from scipy.optimize import fmin\n",
    "from scipy.integrate import quad\n",
    "from scipy.optimize import fsolve\n",
    "from ipywidgets import interact, interactive, fixed, interact_manual\n",
    "import ipywidgets as widgets\n",
    "from inverters import AdOg\n",
    "from scipy.interpolate import spline\n",
    "import warnings\n",
    "warnings.filterwarnings('ignore')"
   ]
  },
  {
   "cell_type": "markdown",
   "metadata": {},
   "source": [
    "## gamma distribution function as prototype function in bT space"
   ]
  },
  {
   "cell_type": "code",
   "execution_count": 2,
   "metadata": {},
   "outputs": [],
   "source": [
    "def Wtilde(bT,Q,sigma):\n",
    "    M=1.0/Q\n",
    "    V=1/sigma**2\n",
    "    b=0.5*(-M+np.sqrt(M**2+4*V))\n",
    "    a=V/b**2\n",
    "    return bT**(a-1)*np.exp(-bT/b)/b**a/spec.gamma(a)\n",
    "\n",
    "def W(qT, Q, sigma, nu):\n",
    "    M=1.0/Q\n",
    "    V=1/sigma**2\n",
    "    b=0.5*(-M+np.sqrt(M**2+4*V))\n",
    "    a=V/b**2\n",
    "    return 1/(2*np.pi)*spec.gamma(a+nu)/spec.gamma(a)*(b*qT/2.0)**nu*spec.hyp2f1((a+nu)/2.0, (a+nu+1.0)/2.0, nu+1.0, -qT**2.0*b**2.0)/spec.gamma(nu+1.0)"
   ]
  },
  {
   "cell_type": "code",
   "execution_count": 3,
   "metadata": {},
   "outputs": [
    {
     "data": {
      "application/vnd.jupyter.widget-view+json": {
       "model_id": "405279e57bfa4db08c87c5fd82a2b5bd",
       "version_major": 2,
       "version_minor": 0
      },
      "text/html": [
       "<p>Failed to display Jupyter Widget of type <code>interactive</code>.</p>\n",
       "<p>\n",
       "  If you're reading this message in the Jupyter Notebook or JupyterLab Notebook, it may mean\n",
       "  that the widgets JavaScript is still loading. If this message persists, it\n",
       "  likely means that the widgets JavaScript library is either not installed or\n",
       "  not enabled. See the <a href=\"https://ipywidgets.readthedocs.io/en/stable/user_install.html\">Jupyter\n",
       "  Widgets Documentation</a> for setup instructions.\n",
       "</p>\n",
       "<p>\n",
       "  If you're reading this message in another frontend (for example, a static\n",
       "  rendering on GitHub or <a href=\"https://nbviewer.jupyter.org/\">NBViewer</a>),\n",
       "  it may mean that your frontend doesn't currently support widgets.\n",
       "</p>\n"
      ],
      "text/plain": [
       "interactive(children=(FloatSlider(value=90.0, description=u'Q', max=200.0), FloatSlider(value=2.0, description=u'sigma', max=10.0, step=0.01), IntSlider(value=2, description=u'bTmax', max=2), IntSlider(value=800, description=u'qTmax', max=1000), IntSlider(value=1, description=u'nu', max=2), Output()), _dom_classes=('widget-interact',))"
      ]
     },
     "metadata": {},
     "output_type": "display_data"
    }
   ],
   "source": [
    "def update(Q=90,sigma=2,bTmax=10,qTmax=800,nu=1):\n",
    "    ncols,nrows=2,1\n",
    "    fig = py.figure(figsize=(ncols*4,nrows*4.5))\n",
    "\n",
    "    ax=py.subplot(121)\n",
    "    bT=10**np.linspace(-3,np.log10(bTmax),100)\n",
    "    ax.plot(bT,Wtilde(bT,Q,sigma))\n",
    "    ax.set_xlabel('$b_T$',size=20)\n",
    "    ax.set_ylabel(r'$\\tilde{W}(b_T)$',size=20)\n",
    "    ax.axvline(1/Q,ls='--',color='k')\n",
    "    ax.set_ylim(0,None)\n",
    "    #ax.semilogx()\n",
    "\n",
    "    \n",
    "    \n",
    "    ax=py.subplot(122)\n",
    "    qT=np.linspace(1e-1,qTmax,100)    \n",
    "    ax.axvline(Q,ls='--',color='k')\n",
    "    ax.plot(qT,W(qT,Q,sigma,nu))\n",
    "    ax.set_xlabel('$q_T$',size=20)\n",
    "    ax.set_ylabel('$W(q_T)$',size=20)\n",
    "    #ax.set_ylim(0,None)\n",
    "    ax.semilogy()\n",
    "    \n",
    "    py.tight_layout()    \n",
    "    py.show()\n",
    "interact(update,Q=(0,200,0.1),sigma=(0,10,0.01),bTmax=(0,2),nu=(0,2,1),qTmax=(0,1000,1));"
   ]
  },
  {
   "cell_type": "markdown",
   "metadata": {},
   "source": [
    "## numerical inversion using quadrature method"
   ]
  },
  {
   "cell_type": "code",
   "execution_count": 4,
   "metadata": {},
   "outputs": [
    {
     "data": {
      "application/vnd.jupyter.widget-view+json": {
       "model_id": "02a00670d4744e1a88ecd915364878ca",
       "version_major": 2,
       "version_minor": 0
      },
      "text/html": [
       "<p>Failed to display Jupyter Widget of type <code>interactive</code>.</p>\n",
       "<p>\n",
       "  If you're reading this message in the Jupyter Notebook or JupyterLab Notebook, it may mean\n",
       "  that the widgets JavaScript is still loading. If this message persists, it\n",
       "  likely means that the widgets JavaScript library is either not installed or\n",
       "  not enabled. See the <a href=\"https://ipywidgets.readthedocs.io/en/stable/user_install.html\">Jupyter\n",
       "  Widgets Documentation</a> for setup instructions.\n",
       "</p>\n",
       "<p>\n",
       "  If you're reading this message in another frontend (for example, a static\n",
       "  rendering on GitHub or <a href=\"https://nbviewer.jupyter.org/\">NBViewer</a>),\n",
       "  it may mean that your frontend doesn't currently support widgets.\n",
       "</p>\n"
      ],
      "text/plain": [
       "interactive(children=(FloatSlider(value=90.0, description=u'Q', max=200.0), FloatSlider(value=2.0, description=u'sigma', max=10.0, step=0.01), IntSlider(value=2, description=u'bTmax', max=2), IntSlider(value=800, description=u'qTmax', max=1000), IntSlider(value=1, description=u'nu', max=2), Output()), _dom_classes=('widget-interact',))"
      ]
     },
     "metadata": {},
     "output_type": "display_data"
    }
   ],
   "source": [
    "def Quadinversion1(w, q, nu):\n",
    "    return 1/(2*np.pi)*quad(lambda bT: jv(nu,q*bT)*w(bT),0,np.inf)[0]\n",
    "\n",
    "def update(Q=90,sigma=2,bTmax=10,qTmax=800,nu=1):\n",
    "    ncols,nrows=2,1\n",
    "    fig = py.figure(figsize=(ncols*4,nrows*4.5))\n",
    "\n",
    "    ax=py.subplot(121)\n",
    "    bT=np.linspace(0,bTmax,100)\n",
    "    ax.plot(bT,Wtilde(bT,Q,sigma))\n",
    "    ax.set_xlabel('$b_T$',size=20)\n",
    "    ax.set_ylabel(r'$\\tilde{W}(b_T)$',size=20)\n",
    "    ax.axvline(1/Q,color='k',ls='--')\n",
    "    ax.set_ylim(0,None)\n",
    "\n",
    "    ax=py.subplot(122)    \n",
    "    qT=np.linspace(1e-1,qTmax,100)    \n",
    "    ax.axvline(Q,ls='--',color='k')\n",
    "    ax.plot(qT,W(qT,Q,sigma,nu))\n",
    "    ax.plot(qT,[Quadinversion1(lambda bT: Wtilde(bT,Q,sigma), q, nu) for q in qT],label='quad',ls='--')\n",
    "    ax.legend()\n",
    "    ax.set_xlabel('$q_T$',size=20)\n",
    "    ax.set_ylabel('$W(q_T)$',size=20)\n",
    "    ax.semilogy()\n",
    "\n",
    "    py.tight_layout()    \n",
    "    py.show()\n",
    "interact(update,Q=(0,200,0.1),sigma=(0,10,0.01),bTmax=(0,2),nu=(0,2,1),qTmax=(0,1000,1));"
   ]
  },
  {
   "cell_type": "markdown",
   "metadata": {},
   "source": [
    "## numerical inversion using MC method"
   ]
  },
  {
   "cell_type": "code",
   "execution_count": 5,
   "metadata": {},
   "outputs": [
    {
     "data": {
      "application/vnd.jupyter.widget-view+json": {
       "model_id": "86f858bb3a4a46b0888efaddc22550a8",
       "version_major": 2,
       "version_minor": 0
      },
      "text/html": [
       "<p>Failed to display Jupyter Widget of type <code>interactive</code>.</p>\n",
       "<p>\n",
       "  If you're reading this message in the Jupyter Notebook or JupyterLab Notebook, it may mean\n",
       "  that the widgets JavaScript is still loading. If this message persists, it\n",
       "  likely means that the widgets JavaScript library is either not installed or\n",
       "  not enabled. See the <a href=\"https://ipywidgets.readthedocs.io/en/stable/user_install.html\">Jupyter\n",
       "  Widgets Documentation</a> for setup instructions.\n",
       "</p>\n",
       "<p>\n",
       "  If you're reading this message in another frontend (for example, a static\n",
       "  rendering on GitHub or <a href=\"https://nbviewer.jupyter.org/\">NBViewer</a>),\n",
       "  it may mean that your frontend doesn't currently support widgets.\n",
       "</p>\n"
      ],
      "text/plain": [
       "interactive(children=(FloatSlider(value=90.0, description=u'Q', max=200.0), FloatSlider(value=2.0, description=u'sigma', max=10.0, step=0.01), IntSlider(value=2, description=u'bTmax', max=2), IntSlider(value=800, description=u'qTmax', max=1000), IntSlider(value=1, description=u'nu', max=2), Output()), _dom_classes=('widget-interact',))"
      ]
     },
     "metadata": {},
     "output_type": "display_data"
    }
   ],
   "source": [
    "def transform(f, p):\n",
    "    return f(np.tan(p))*(1/np.cos(p))**2\n",
    "integ = vegas.Integrator([[0, np.pi/2.0]])\n",
    "\n",
    "def MCinversion(f, q, nu, m):\n",
    "    return 1/(2*np.pi)*float(str(integ(lambda p: transform(f, p)*jv(nu, q*np.tan(p)), nitn=10, neval=m)[0]).split('+-')[0].split('(')[0])\n",
    "\n",
    "def update(Q=90,sigma=2,bTmax=10,qTmax=800,nu=1):\n",
    "    ncols,nrows=2,1\n",
    "    fig = py.figure(figsize=(ncols*4,nrows*4.5))\n",
    "\n",
    "    ax=py.subplot(121)\n",
    "    bT=np.linspace(0,bTmax,100)\n",
    "    ax.plot(bT,Wtilde(bT,Q,sigma))\n",
    "    ax.set_xlabel('$b_T$',size=20)\n",
    "    ax.set_ylabel(r'$\\tilde{W}(b_T)$',size=20)\n",
    "    ax.axvline(1/Q,ls='--',color='k')\n",
    "\n",
    "\n",
    "    ax=py.subplot(122)    \n",
    "    qT=np.linspace(1e-1,qTmax,100)\n",
    "    ax.plot(qT,W(qT,Q,sigma,nu),label='exact')\n",
    "    ax.plot(qT,[MCinversion(lambda bT: Wtilde(bT,Q,sigma), q, nu, 400) for q in qT],label='MC',ls='--')\n",
    "    ax.axvline(Q,ls='--',color='k')\n",
    "    ax.legend()\n",
    "    ax.set_xlabel('$q_T$',size=20)\n",
    "    ax.set_ylabel('$W(q_T)$',size=20)\n",
    "    ax.semilogy()\n",
    "\n",
    "\n",
    "    py.tight_layout()    \n",
    "    py.show()\n",
    "interact(update,Q=(0,200,0.1),sigma=(0,10,0.01),bTmax=(0,2),nu=(0,2,1),qTmax=(0,1000,1));"
   ]
  },
  {
   "cell_type": "code",
   "execution_count": 6,
   "metadata": {},
   "outputs": [
    {
     "data": {
      "application/vnd.jupyter.widget-view+json": {
       "model_id": "39f58d090fd7466c8a3517668f549b78",
       "version_major": 2,
       "version_minor": 0
      },
      "text/html": [
       "<p>Failed to display Jupyter Widget of type <code>interactive</code>.</p>\n",
       "<p>\n",
       "  If you're reading this message in the Jupyter Notebook or JupyterLab Notebook, it may mean\n",
       "  that the widgets JavaScript is still loading. If this message persists, it\n",
       "  likely means that the widgets JavaScript library is either not installed or\n",
       "  not enabled. See the <a href=\"https://ipywidgets.readthedocs.io/en/stable/user_install.html\">Jupyter\n",
       "  Widgets Documentation</a> for setup instructions.\n",
       "</p>\n",
       "<p>\n",
       "  If you're reading this message in another frontend (for example, a static\n",
       "  rendering on GitHub or <a href=\"https://nbviewer.jupyter.org/\">NBViewer</a>),\n",
       "  it may mean that your frontend doesn't currently support widgets.\n",
       "</p>\n"
      ],
      "text/plain": [
       "interactive(children=(FloatSlider(value=90.0, description=u'Q', max=200.0), FloatSlider(value=2.0, description=u'sigma', max=10.0, step=0.01), IntSlider(value=900, description=u'qTmax', max=1000), IntSlider(value=1, description=u'nu', max=2), Output()), _dom_classes=('widget-interact',))"
      ]
     },
     "metadata": {},
     "output_type": "display_data"
    }
   ],
   "source": [
    "def ogata(f,h,N, nu):\n",
    "    zeros=jn_zeros(nu,N)\n",
    "    xi=zeros/np.pi\n",
    "    Jp1=jv(nu+1,np.pi*xi)\n",
    "    w=yv(nu, np.pi * xi) / Jp1\n",
    "    get_psi=lambda t: t*np.tanh(np.pi/2*np.sinh(t))\n",
    "    get_psip=lambda t:np.pi*t*(-np.tanh(np.pi*np.sinh(t)/2)**2 + 1)*np.cosh(t)/2 + np.tanh(np.pi*np.sinh(t)/2)\n",
    "    knots=np.pi/h*get_psi(h*xi)\n",
    "    Jnu=jv(nu,knots)\n",
    "    psip=get_psip(h*xi)\n",
    "    F=f(knots)\n",
    "    return np.pi*np.sum(w*F*Jnu*psip)\n",
    "\n",
    "def get_ogata_params(w, xmin, xmax, qT, nu):\n",
    "    zero1 = jn_zeros(nu, 1)[0]\n",
    "    h = fsolve(lambda h: xmin-zero1*np.tanh(np.pi/2*np.sinh(h/np.pi*zero1)), xmin)[0]\n",
    "    k = fsolve(lambda k: xmax-np.pi*k*np.tanh(np.pi/2*np.sinh(h*k)), xmax)[0]\n",
    "    N = int(k)\n",
    "    return h,k,N\n",
    "\n",
    "def Ogatainversion(w, xmin, xmax, qT, nu):\n",
    "    h,k,N=get_ogata_params(w, xmin, xmax, qT, nu)\n",
    "    return 1/(2*np.pi)*ogata(lambda x: w(x/qT)/qT,h,N, nu)\n",
    "\n",
    "def update(Q=90,sigma=2,qTmax=900,nu=1):\n",
    "    ncols,nrows=2,1\n",
    "    fig = py.figure(figsize=(ncols*4,nrows*4.5))\n",
    "    \n",
    "    ax=py.subplot(121)\n",
    "    bT=np.linspace(0,10,100)\n",
    "    ax.plot(bT,Wtilde(bT,Q,sigma))\n",
    "    ax.set_xlabel('$b_T$',size=20)\n",
    "    ax.set_ylabel(r'$\\tilde{W}(b_T)$',size=20)\n",
    "    ax.axvline(1/Q,ls='--',color='k')\n",
    "\n",
    "    ax=py.subplot(122)\n",
    "    qT=np.linspace(1e-1,qTmax,100)\n",
    "    ax.plot(qT,W(qT,Q,sigma,nu),label='exact')\n",
    "    xmin=lambda q: 1e-5*q#mean*q/500\n",
    "    xmax=lambda q: 20*q#mean*q*100\n",
    "    ax.plot(qT,[Ogatainversion(lambda bT: Wtilde(bT,Q,sigma),xmin(q),xmax(q),q,nu) for q in qT],label='ogata',ls='--')\n",
    "    ax.legend()\n",
    "    ax.set_xlabel('$q_T$',size=20)\n",
    "    ax.set_ylabel('$W(q_T)$',size=20)\n",
    "    ax.semilogy()\n",
    "\n",
    "    py.tight_layout()    \n",
    "    py.show()\n",
    "interact(update,Q=(0,200,0.1),sigma=(0,10,0.01),nu=(0,2,1),qTmax=(0,1000,1));"
   ]
  },
  {
   "cell_type": "code",
   "execution_count": 7,
   "metadata": {},
   "outputs": [
    {
     "data": {
      "application/vnd.jupyter.widget-view+json": {
       "model_id": "7265ea712b16453c8479d0b1ceda5d52",
       "version_major": 2,
       "version_minor": 0
      },
      "text/html": [
       "<p>Failed to display Jupyter Widget of type <code>interactive</code>.</p>\n",
       "<p>\n",
       "  If you're reading this message in the Jupyter Notebook or JupyterLab Notebook, it may mean\n",
       "  that the widgets JavaScript is still loading. If this message persists, it\n",
       "  likely means that the widgets JavaScript library is either not installed or\n",
       "  not enabled. See the <a href=\"https://ipywidgets.readthedocs.io/en/stable/user_install.html\">Jupyter\n",
       "  Widgets Documentation</a> for setup instructions.\n",
       "</p>\n",
       "<p>\n",
       "  If you're reading this message in another frontend (for example, a static\n",
       "  rendering on GitHub or <a href=\"https://nbviewer.jupyter.org/\">NBViewer</a>),\n",
       "  it may mean that your frontend doesn't currently support widgets.\n",
       "</p>\n"
      ],
      "text/plain": [
       "interactive(children=(FloatSlider(value=90.0, description=u'Q', max=200.0), FloatSlider(value=2.0, description=u'sigma', max=10.0, step=0.01), IntSlider(value=900, description=u'qTmax', max=1000), IntSlider(value=1, description=u'nu', max=2), IntSlider(value=10, description=u'Nmax', max=200, min=10, step=10), Output()), _dom_classes=('widget-interact',))"
      ]
     },
     "metadata": {},
     "output_type": "display_data"
    }
   ],
   "source": [
    "ADOG = AdOg()\n",
    "def update(Q=90,sigma=2,qTmax=900,nu=1,Nmax=10):\n",
    "    ncols,nrows=2,1\n",
    "    fig = py.figure(figsize=(ncols*4,nrows*4.5))\n",
    "    \n",
    "    ax=py.subplot(121)\n",
    "    bT=np.linspace(0,10,100)\n",
    "    ax.plot(bT,Wtilde(bT,Q,sigma))\n",
    "    ax.set_xlabel('$b_T$',size=20)\n",
    "    ax.set_ylabel(r'$\\tilde{W}(b_T)$',size=20)\n",
    "    ax.axvline(1/Q,ls='--',color='k')\n",
    "\n",
    "    ax=py.subplot(122)\n",
    "    qT=np.linspace(100,qTmax,100)\n",
    "    ax.plot(qT,W(qT,Q,sigma,nu),label='exact')\n",
    "    vals=[ADOG.adog(lambda bT: Wtilde(bT,Q,sigma), q, nu, Nmax, Q) for q in qT]\n",
    "    ax.plot(qT,vals,label='ogata',ls='--')\n",
    "    ax.legend()\n",
    "    ax.set_xlabel('$q_T$',size=20)\n",
    "    ax.set_ylabel('$W(q_T)$',size=20)\n",
    "    ax.semilogy()\n",
    "\n",
    "    py.tight_layout()    \n",
    "    py.show()\n",
    "interact(update,Q=(0,200,0.1),sigma=(0,10,0.01),nu=(0,2,1),qTmax=(0,1000,1),Nmax=(10,200,10));"
   ]
  },
  {
   "cell_type": "code",
   "execution_count": 72,
   "metadata": {},
   "outputs": [
    {
     "data": {
      "image/png": "[encoded data removed]",
      "text/plain": [
       "<matplotlib.figure.Figure at 0x7fb35b2b8bd0>"
      ]
     },
     "metadata": {},
     "output_type": "display_data"
    }
   ],
   "source": [
    "exact = lambda l: l/(1.0+l**2)**(1.5)\n",
    "nlist = [i for i in range(200,300)]\n",
    "nnew = np.linspace(nlist[0],nlist[-1],300)\n",
    "vals025=[ogata(lambda b: b*np.exp(-0.05*b),0.1/n,n, 0)/exact(0.05) for n in nlist]\n",
    "smooth025 = spline(nlist,vals025,nnew)\n",
    "vals05 =[ogata(lambda b: b*np.exp(-0.05*b),0.15/n,n, 0)/exact(0.05) for n in nlist]\n",
    "smooth05 = spline(nlist,vals05,nnew)\n",
    "vals1 = [ogata(lambda b: b*np.exp(-0.05*b),0.2/n,n, 0)/exact(0.05) for n in nlist]\n",
    "smooth1 = spline(nlist,vals1,nnew)\n",
    "fig = py.figure(figsize=(6, 4))\n",
    "ax=py.subplot(111)\n",
    "ax.plot(nnew,smooth025,label=r\"R=0.1\")\n",
    "ax.plot(nnew,smooth05,label=r\"R=0.15\")\n",
    "ax.plot(nnew,smooth1,label=r\"R=0.2\")\n",
    "ax.set_xlabel(\"N\")\n",
    "ax.set_ylabel(\"Ogata/Exact\")\n",
    "# Hide the right and top spines\n",
    "ax.spines['right'].set_visible(False)\n",
    "ax.spines['top'].set_visible(False)\n",
    "\n",
    "# Only show ticks on the left and bottom spines\n",
    "ax.yaxis.set_ticks_position('left')\n",
    "ax.xaxis.set_ticks_position('bottom')\n",
    "ax.legend()\n",
    "py.savefig('Rconvergence.pdf')\n",
    "py.show()"
   ]
  },
  {
   "cell_type": "code",
   "execution_count": null,
   "metadata": {},
   "outputs": [],
   "source": [
    "hlist = [1.0/i for i in range(10,50)]\n",
    "vals025=[1/2.0/np.pi*ogata(lambda b: Wtilde(b,10.0,1.0),h,int(0.3/h), 0)/W(1.0, 10.0, 1.0, 0) for h in hlist]\n",
    "vals05 = [1/2.0/np.pi*ogata(lambda b: Wtilde(b,10.0,1.0),h,int(0.5/h), 0)/W(1.0, 10.0, 1.0, 0) for h in hlist]\n",
    "vals1 = [1/2.0/np.pi*ogata(lambda b: Wtilde(b,10.0,1.0),h,int(1.0/h), 0)/W(1.0, 10.0, 1.0, 0) for h in hlist]\n",
    "space = [1/h for h in hlist]\n",
    "ax=py.subplot(111)\n",
    "ax.plot(space,vals025,label=\"0.25\")\n",
    "#ax.plot(space,vals05,label=\"0.5\")\n",
    "#ax.plot(space,vals1,label=\"1.0\")\n",
    "ax.legend()\n",
    "py.show()"
   ]
  },
  {
   "cell_type": "code",
   "execution_count": null,
   "metadata": {},
   "outputs": [],
   "source": [
    "ADOG = AdOg()\n",
    "def update(Q=90,sigma=2,qTmax=900,nu=1,eps=0.5):\n",
    "    ncols,nrows=2,1\n",
    "    fig = py.figure(figsize=(ncols*4,nrows*4.5))\n",
    "    \n",
    "    ax=py.subplot(121)\n",
    "    bT=np.linspace(0,10,100)\n",
    "    ax.plot(bT,Wtilde(bT,Q,sigma))\n",
    "    ax.set_xlabel('$b_T$',size=20)\n",
    "    ax.set_ylabel(r'$\\tilde{W}(b_T)$',size=20)\n",
    "    ax.axvline(1/Q,ls='--',color='k')\n",
    "\n",
    "    ax=py.subplot(122)\n",
    "    qT=np.linspace(1e-1,qTmax,100)\n",
    "    ax.plot(qT,W(qT,Q,sigma,nu),label='exact')\n",
    "    vals=[ADOG.adog2(lambda bT: Wtilde(bT,Q,sigma),q,nu,Q,epsilon=eps) for q in qT]\n",
    "    ax.plot(qT,vals,label='ogata',ls='--')\n",
    "    ax.legend()\n",
    "    ax.set_xlabel('$q_T$',size=20)\n",
    "    ax.set_ylabel('$W(q_T)$',size=20)\n",
    "    ax.semilogy()\n",
    "\n",
    "    py.tight_layout()    \n",
    "    py.show()\n",
    "interact(update,Q=(0,200,0.1),sigma=(0,10,0.01),nu=(0,2,1),qTmax=(0,1000,1),eps=(0.01,0.5,0.05));"
   ]
  },
  {
   "cell_type": "markdown",
   "metadata": {},
   "source": [
    "# numerical inversion using Ogata method"
   ]
  },
  {
   "cell_type": "markdown",
   "metadata": {},
   "source": [
    "## test the relation between x, xi, h and N"
   ]
  },
  {
   "cell_type": "code",
   "execution_count": null,
   "metadata": {},
   "outputs": [],
   "source": [
    "def update(h=0.1,N=10,nu=1):\n",
    "    ncols,nrows=1,1\n",
    "    fig = py.figure(figsize=(ncols*5,nrows*4))\n",
    "\n",
    "    xnots=jn_zeros(nu,N)*np.tanh(np.pi/2*np.sinh(h/np.pi*jn_zeros(nu,N)))\n",
    "    xi=jn_zeros(nu,N)/np.pi\n",
    "        \n",
    "    ax=py.subplot(111)\n",
    "    ax.plot(xi,xnots,'o')\n",
    "    ax.set_xlabel(r'$\\xi_k$',size=20)\n",
    "    ax.set_ylabel(r'$x_k$',size=20)\n",
    "\n",
    "    py.tight_layout()    \n",
    "    py.show()\n",
    "interact(update,h=(0.01,1,0.01),N=(0,100,1),nu=(0,2,1));"
   ]
  },
  {
   "cell_type": "markdown",
   "metadata": {},
   "source": [
    "## test sampling region for a given qT"
   ]
  },
  {
   "cell_type": "code",
   "execution_count": null,
   "metadata": {},
   "outputs": [],
   "source": [
    "def update(Q=90,sigma=2,qT=800,nu=1):\n",
    "    ncols,nrows=2,1\n",
    "    fig = py.figure(figsize=(ncols*4,nrows*4.5))\n",
    "\n",
    "    f=lambda x: 1/(2*np.pi*qT)*Wtilde(x/qT,Q,sigma)\n",
    "    \n",
    "    xmin=1e-10*qT\n",
    "    xmax=10*qT\n",
    "    zero1 = jn_zeros(nu, 1)[0]\n",
    "    h = fsolve(lambda h: xmin-zero1/qT*np.tanh(np.pi/2*np.sinh(h/np.pi*zero1)), xmin)[0]\n",
    "    k = fsolve(lambda k: xmax-np.pi*k/qT*np.tanh(np.pi/2*np.sinh(h*k)), xmax)[0]\n",
    "    N = int(k)\n",
    "    #print N\n",
    "    #h=1\n",
    "    #N=1000\n",
    "    xnots=jn_zeros(nu,N)*np.tanh(np.pi/2*np.sinh(h/np.pi*jn_zeros(nu,N)))\n",
    "    x=10**np.linspace(np.log10(xmin),np.log10(xmax),10000)\n",
    "    \n",
    "    ax=py.subplot(121)\n",
    "    #ax.axvline(1/Q,color='k',ls='--')\n",
    "    ax.plot(xnots,f(xnots),'r.')\n",
    "    ax.plot(x,f(x))\n",
    "    ax.set_ylim(0,None)\n",
    "    ax.semilogx()\n",
    "\n",
    "    ax=py.subplot(122)\n",
    "    ax.plot(xnots,f(xnots)*jv(nu+1,np.pi*xnots),'r.')    \n",
    "    ax.plot(x,f(x)*jv(nu+1,np.pi*x))\n",
    "\n",
    "    #x=10**np.linspace(np.log10(xmin),np.log10(xmax),10000)\n",
    "    #ax.set_ylim(0,None)\n",
    "    ax.semilogx()\n",
    "\n",
    "    \n",
    "    #ax.semilogx()\n",
    "    \n",
    "    py.tight_layout()    \n",
    "    py.show()\n",
    "interact(update,Q=(0,200,0.1),sigma=(0,10,0.01),bTmax=(0,2),nu=(1,3,1),qT=(0,1000,1));"
   ]
  },
  {
   "cell_type": "code",
   "execution_count": null,
   "metadata": {},
   "outputs": [],
   "source": []
  },
  {
   "cell_type": "code",
   "execution_count": null,
   "metadata": {},
   "outputs": [],
   "source": []
  }
 ],
 "metadata": {
  "kernelspec": {
   "display_name": "Python 2",
   "language": "python",
   "name": "python2"
  },
  "language_info": {
   "codemirror_mode": {
    "name": "ipython",
    "version": 2
   },
   "file_extension": ".py",
   "mimetype": "text/x-python",
   "name": "python",
   "nbconvert_exporter": "python",
   "pygments_lexer": "ipython2",
   "version": "2.7.14"
  }
 },
 "nbformat": 4,
 "nbformat_minor": 2
}
